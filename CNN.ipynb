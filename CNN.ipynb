{
 "cells": [
  {
   "cell_type": "code",
   "execution_count": 26,
   "metadata": {},
   "outputs": [],
   "source": [
    "# 데이터 로드\n",
    "import tensorflow as tf\n",
    "mnist = tf.keras.datasets.mnist"
   ]
  },
  {
   "cell_type": "code",
   "execution_count": 31,
   "metadata": {},
   "outputs": [],
   "source": [
    "# 데이터 분류\n",
    "(X_train, y_train), (X_test, y_test) = mnist.load_data()"
   ]
  },
  {
   "cell_type": "code",
   "execution_count": 33,
   "metadata": {},
   "outputs": [],
   "source": [
    "# 데이터 전처리\n",
    "X_train, X_test = X_train / 255.0, X_test / 255.0\n",
    "X_train = X_train.reshape(X_train.shape[0], 28, 28, 1) \n",
    "X_test = X_test.reshape(X_test.shape[0], 28, 28, 1)\n",
    "y_train = tf.keras.utils.to_categorical(y_train, 10)  \n",
    "y_test = tf.keras.utils.to_categorical(y_test, 10)"
   ]
  },
  {
   "cell_type": "code",
   "execution_count": 35,
   "metadata": {},
   "outputs": [],
   "source": [
    "# 하이퍼 파라미터\n",
    "learning_rate = 0.001  \n",
    "training_epochs = 10\n",
    "batch_size = 128"
   ]
  },
  {
   "cell_type": "code",
   "execution_count": 40,
   "metadata": {},
   "outputs": [
    {
     "name": "stdout",
     "output_type": "stream",
     "text": [
      "Model: \"sequential_4\"\n",
      "_________________________________________________________________\n",
      " Layer (type)                Output Shape              Param #   \n",
      "=================================================================\n",
      " conv2d_8 (Conv2D)           (None, 26, 26, 16)        160       \n",
      "                                                                 \n",
      " max_pooling2d_8 (MaxPooling  (None, 13, 13, 16)       0         \n",
      " 2D)                                                             \n",
      "                                                                 \n",
      " dropout_4 (Dropout)         (None, 13, 13, 16)        0         \n",
      "                                                                 \n",
      " conv2d_9 (Conv2D)           (None, 11, 11, 32)        4640      \n",
      "                                                                 \n",
      " max_pooling2d_9 (MaxPooling  (None, 5, 5, 32)         0         \n",
      " 2D)                                                             \n",
      "                                                                 \n",
      " dropout_5 (Dropout)         (None, 5, 5, 32)          0         \n",
      "                                                                 \n",
      " flatten_4 (Flatten)         (None, 800)               0         \n",
      "                                                                 \n",
      " dense_4 (Dense)             (None, 10)                8010      \n",
      "                                                                 \n",
      "=================================================================\n",
      "Total params: 12,810\n",
      "Trainable params: 12,810\n",
      "Non-trainable params: 0\n",
      "_________________________________________________________________\n"
     ]
    }
   ],
   "source": [
    "# 모델 쌓기\n",
    "tf.model = tf.keras.Sequential()\n",
    "tf.model.add(tf.keras.layers.Conv2D(filters=16, kernel_size=(3, 3), input_shape=(28, 28, 1), activation='relu'))  \n",
    "tf.model.add(tf.keras.layers.MaxPooling2D(pool_size=(2, 2))) \n",
    "tf.model.add(tf.keras.layers.Dropout(0.5))\n",
    "\n",
    "tf.model.add(tf.keras.layers.Conv2D(filters=32, kernel_size=(3, 3), activation='relu'))  \n",
    "tf.model.add(tf.keras.layers.MaxPooling2D(pool_size=(2, 2)))\n",
    "tf.model.add(tf.keras.layers.Dropout(0.5))\n",
    "\n",
    "tf.model.add(tf.keras.layers.Flatten()) \n",
    "tf.model.add(tf.keras.layers.Dense(units=10, kernel_initializer='glorot_normal', activation='softmax')) \n",
    "\n",
    "tf.model.compile(loss='categorical_crossentropy', optimizer=tf.keras.optimizers.Adam(lr=learning_rate), metrics=['accuracy']) \n",
    "tf.model.summary() "
   ]
  },
  {
   "cell_type": "code",
   "execution_count": 41,
   "metadata": {},
   "outputs": [
    {
     "name": "stdout",
     "output_type": "stream",
     "text": [
      "Epoch 1/10\n",
      "469/469 [==============================] - 8s 16ms/step - loss: 0.6216 - accuracy: 0.7980\n",
      "Epoch 2/10\n",
      "469/469 [==============================] - 8s 16ms/step - loss: 0.2295 - accuracy: 0.9302\n",
      "Epoch 3/10\n",
      "469/469 [==============================] - 8s 16ms/step - loss: 0.1839 - accuracy: 0.9443\n",
      "Epoch 4/10\n",
      "469/469 [==============================] - 8s 16ms/step - loss: 0.1598 - accuracy: 0.9523\n",
      "Epoch 5/10\n",
      "469/469 [==============================] - 8s 16ms/step - loss: 0.1477 - accuracy: 0.9552\n",
      "Epoch 6/10\n",
      "469/469 [==============================] - 7s 16ms/step - loss: 0.1299 - accuracy: 0.9598\n",
      "Epoch 7/10\n",
      "469/469 [==============================] - 8s 16ms/step - loss: 0.1230 - accuracy: 0.9629\n",
      "Epoch 8/10\n",
      "469/469 [==============================] - 8s 16ms/step - loss: 0.1156 - accuracy: 0.9635\n",
      "Epoch 9/10\n",
      "469/469 [==============================] - 8s 16ms/step - loss: 0.1117 - accuracy: 0.9655\n",
      "Epoch 10/10\n",
      "469/469 [==============================] - 8s 16ms/step - loss: 0.1046 - accuracy: 0.9683\n"
     ]
    },
    {
     "data": {
      "text/plain": [
       "<keras.callbacks.History at 0x205b3043e20>"
      ]
     },
     "execution_count": 41,
     "metadata": {},
     "output_type": "execute_result"
    }
   ],
   "source": [
    "# 모델 훈련\n",
    "tf.model.fit(X_train, y_train, batch_size=batch_size, epochs=training_epochs)"
   ]
  },
  {
   "cell_type": "code",
   "execution_count": 44,
   "metadata": {},
   "outputs": [
    {
     "name": "stdout",
     "output_type": "stream",
     "text": [
      "actual y:  7 predicted y:  7\n",
      "actual y:  2 predicted y:  2\n",
      "actual y:  1 predicted y:  1\n",
      "actual y:  0 predicted y:  0\n",
      "actual y:  4 predicted y:  4\n",
      "actual y:  1 predicted y:  1\n",
      "actual y:  4 predicted y:  4\n",
      "actual y:  9 predicted y:  9\n",
      "actual y:  5 predicted y:  5\n",
      "actual y:  9 predicted y:  9\n"
     ]
    }
   ],
   "source": [
    "# 예측값 10개만 비교\n",
    "import numpy as np\n",
    "y_pred = tf.model.predict(X_test) \n",
    "for i in range(10):\n",
    "    print(\"actual y: \", np.argmax(y_test[i]),\n",
    "          \"predicted y: \", np.argmax(y_pred[i])) "
   ]
  },
  {
   "cell_type": "code",
   "execution_count": 46,
   "metadata": {},
   "outputs": [
    {
     "name": "stdout",
     "output_type": "stream",
     "text": [
      "313/313 [==============================] - 1s 2ms/step - loss: 0.0464 - accuracy: 0.9850\n",
      "loss:  0.04635954648256302\n",
      "accuracy 0.9850000143051147\n"
     ]
    }
   ],
   "source": [
    "# 모델 평가\n",
    "evaluation = tf.model.evaluate(X_test, y_test)   #모델 평가\n",
    "print('loss: ', evaluation[0])\n",
    "print('accuracy', evaluation[1])"
   ]
  }
 ],
 "metadata": {
  "kernelspec": {
   "display_name": "Python 3.9.7 ('base')",
   "language": "python",
   "name": "python3"
  },
  "language_info": {
   "codemirror_mode": {
    "name": "ipython",
    "version": 3
   },
   "file_extension": ".py",
   "mimetype": "text/x-python",
   "name": "python",
   "nbconvert_exporter": "python",
   "pygments_lexer": "ipython3",
   "version": "3.9.7"
  },
  "orig_nbformat": 4,
  "vscode": {
   "interpreter": {
    "hash": "59c86215cb6667c49c42aaf9f4968b164f63cbe3d18b8d322d177a685e6eefb7"
   }
  }
 },
 "nbformat": 4,
 "nbformat_minor": 2
}
